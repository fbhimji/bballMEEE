{
  "cells": [
    {
      "cell_type": "markdown",
      "metadata": {
        "id": "2aUtJ5QdYQYs"
      },
      "source": [
        "# Basketball Court Keypoint Detection - MVP Training (Fast)\n",
        "## 1. Installing Libraries"
      ]
    },
    {
      "cell_type": "code",
      "execution_count": null,
      "metadata": {
        "id": "0U7TJlM4X-qV"
      },
      "outputs": [],
      "source": [
        "!pip install roboflow\n",
        "!pip install ultralytics"
      ]
    },
    {
      "cell_type": "markdown",
      "metadata": {
        "id": "2vGTPh8fYMWu"
      },
      "source": [
        "## 2. Downloading the Dataset"
      ]
    },
    {
      "cell_type": "code",
      "execution_count": null,
      "metadata": {
        "id": "4wz4kh_DXBGp"
      },
      "outputs": [],
      "source": [
        "from roboflow import Roboflow\n",
        "rf = Roboflow(api_key=\"XGGgi9I99K20h7SW1Yjp\")\n",
        "project = rf.workspace(\"roboflow-jvuqo\").project(\"basketball-court-detection-2\")\n",
        "version = project.version(13)\n",
        "dataset = version.download(\"yolov8\")\n",
        "\n",
        "print(f\"Dataset downloaded to: {dataset.location}\")"
      ]
    },
    {
      "cell_type": "markdown",
      "metadata": {
        "id": "new_markdown_cell_mvp_x"
      },
      "source": [
        "## 3. Training for an MVP with yolov8x-pose\n",
        "This command uses the powerful `yolov8x-pose` model as requested. To balance speed and the resource needs of this larger model, we'll use a batch size of 32. This provides a good trade-off for reasonably fast MVP training on the A100."
      ]
    },
    {
      "cell_type": "code",
      "execution_count": null,
      "metadata": {
        "id": "0IApoG56a_09_mvp_x"
      },
      "outputs": [],
      "source": [
        "!yolo task=pose mode=train model=yolov8x-pose.pt data={dataset.location}/data.yaml epochs=100 patience=20 batch=32 imgsz=640 cache=True plots=True"
      ]
    }
  ],
  "metadata": {
    "accelerator": "GPU",
    "colab": {
      "gpuType": "A100",
      "provenance": []
    },
    "kernelspec": {
      "display_name": "Python 3",
      "name": "python3"
    },
    "language_info": {
      "name": "python"
    }
  },
  "nbformat": 4,
  "nbformat_minor": 0
}
